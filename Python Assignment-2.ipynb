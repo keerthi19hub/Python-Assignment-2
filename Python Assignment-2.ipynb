{
 "cells": [
  {
   "cell_type": "code",
   "execution_count": 6,
   "id": "76ae64b1-760a-4c2d-b687-ab181cdd4a8c",
   "metadata": {},
   "outputs": [
    {
     "name": "stdout",
     "output_type": "stream",
     "text": [
      "* \n",
      "* * \n",
      "* * * \n",
      "* * * * \n",
      "* * * * * \n"
     ]
    }
   ],
   "source": [
    "# Print right triangle star pattern right.write a python programme to print the following patterns for 'n'rows:\n",
    "for i in range(1,6):\n",
    "    for j in range(i):\n",
    "        print(\"*\",end=\" \")\n",
    "    print()"
   ]
  },
  {
   "cell_type": "code",
   "execution_count": 8,
   "id": "1b1bd71d-1cf8-4915-a68f-79158259f7ec",
   "metadata": {},
   "outputs": [
    {
     "name": "stdout",
     "output_type": "stream",
     "text": [
      "* * * * * \n",
      "* * * * \n",
      "* * * \n",
      "* * \n",
      "* \n"
     ]
    }
   ],
   "source": [
    "# Print inverted right triangle star pattern .write a programme to print an inverted right triangle pattern for 'n' rows:\n",
    "for i in range(5,0,-1):\n",
    "    for j in range(1,1+i):\n",
    "        print(\"*\",end=\" \")\n",
    "    print()"
   ]
  },
  {
   "cell_type": "code",
   "execution_count": 16,
   "id": "211c8a94-6743-4be3-951f-9a9cabbcab51",
   "metadata": {},
   "outputs": [
    {
     "name": "stdin",
     "output_type": "stream",
     "text": [
      "enter the number of rows: 5\n"
     ]
    },
    {
     "name": "stdout",
     "output_type": "stream",
     "text": [
      "1 \n",
      "2 2 \n",
      "3 3 3 \n",
      "4 4 4 4 \n",
      "5 5 5 5 5 \n"
     ]
    }
   ],
   "source": [
    "# Triangle with repeating numbers. write a programme to print the following pattern number:\n",
    "n=int(input(\"enter the number of rows:\"))\n",
    "for i in range(1,n+1):\n",
    "    for j in range(1,i+1):\n",
    "        print(i,end=\" \")\n",
    "    print()"
   ]
  },
  {
   "cell_type": "code",
   "execution_count": 12,
   "id": "6b2eef86-7471-4dcb-b197-33d0701e3eff",
   "metadata": {},
   "outputs": [
    {
     "name": "stdout",
     "output_type": "stream",
     "text": [
      "1 \n",
      "1 2 \n",
      "1 2 3 \n",
      "1 2 3 4 \n",
      "1 2 3 4 5 \n"
     ]
    }
   ],
   "source": [
    "# Triangle with ascending numbers in row. write a programme to print the following pattern:\n",
    "for i in range(1,6)::\n",
    "    for j in range(1,i+1):\n",
    "        print(j,end=\" \")\n",
    "    print()"
   ]
  },
  {
   "cell_type": "code",
   "execution_count": 14,
   "id": "aa426ff1-c318-4e78-bd8b-1a226894a9c4",
   "metadata": {},
   "outputs": [
    {
     "name": "stdout",
     "output_type": "stream",
     "text": [
      "5 4 3 2 1 \n",
      "4 3 2 1 \n",
      "3 2 1 \n",
      "2 1 \n",
      "1 \n"
     ]
    }
   ],
   "source": [
    "# Descending number triangle print a pattern where each number contains numbers in descending order\n",
    "for i in range(5,0,-1):\n",
    "    for j in range(i,0,-1):\n",
    "        print(j,end=\" \")\n",
    "    print()"
   ]
  },
  {
   "cell_type": "code",
   "execution_count": 18,
   "id": "46003418-44f5-4229-80be-7d8d206e890c",
   "metadata": {},
   "outputs": [
    {
     "name": "stdout",
     "output_type": "stream",
     "text": [
      "* * * * * \n",
      "*       * \n",
      "*       * \n",
      "*       * \n",
      "* * * * * \n"
     ]
    }
   ],
   "source": [
    "# Hollow square pattern print a programme to print a hollow square pattern with 'n' rows:\n",
    "for i in range(5):\n",
    "    for j in range(5):\n",
    "        if i==0 or i==5-1 or j==0 or j==5-1:\n",
    "            print(\"*\",end=\" \")\n",
    "        else:\n",
    "            print(\" \",end=\" \")\n",
    "    print()"
   ]
  },
  {
   "cell_type": "code",
   "execution_count": 1,
   "id": "2952565b-27e1-4e09-8cb0-89c0c571c222",
   "metadata": {},
   "outputs": [
    {
     "name": "stdout",
     "output_type": "stream",
     "text": [
      "  * \n",
      " * * \n",
      "* * * \n",
      " * * \n",
      "  * \n",
      "   \n"
     ]
    }
   ],
   "source": [
    "# Diamond Pyramid write a programme to print a diamond pyramid with '2n-1' rows\n",
    "for i in range(1,4):\n",
    "    for j in range(1,4-i):\n",
    "        print(end=\" \")\n",
    "    for j in range(1,i+1):\n",
    "        print(\"*\",end=\" \")\n",
    "    print()\n",
    "for i in range(1,4):\n",
    "    for j in range(1,i+1):\n",
    "        print(end=\" \")\n",
    "    for j in range(1,4-i):\n",
    "        print(\"*\",end=\" \")\n",
    "    print()\n",
    "\n"
   ]
  },
  {
   "cell_type": "code",
   "execution_count": 1,
   "id": "cd7a81c3-0e2a-4ff7-a366-054d2b0cd2e3",
   "metadata": {},
   "outputs": [
    {
     "name": "stdin",
     "output_type": "stream",
     "text": [
      "enter the number of rows: 5\n"
     ]
    },
    {
     "name": "stdout",
     "output_type": "stream",
     "text": [
      "    1 \n",
      "   1 1 \n",
      "  1 2 1 \n",
      " 1 3 3 1 \n",
      "1 4 6 4 1 \n"
     ]
    }
   ],
   "source": [
    "# Pascal's triangle write a programme to print Pascal's triangle with 'n' rows:\n",
    "n=int(input(\"enter the number of rows:\"))\n",
    "for i in range(n):\n",
    "    value=1\n",
    "    for j in range(n-i-1):\n",
    "        print(\" \",end=\"\")\n",
    "    for j in range(i+1):\n",
    "        print(value,end=\" \")\n",
    "        value=value*(i-j)//(j+1)\n",
    "    print()"
   ]
  },
  {
   "cell_type": "code",
   "execution_count": 46,
   "id": "c4ce3b7d-53c5-4663-be3e-f29791cd6182",
   "metadata": {},
   "outputs": [
    {
     "name": "stdin",
     "output_type": "stream",
     "text": [
      "enter a number 5\n"
     ]
    },
    {
     "name": "stdout",
     "output_type": "stream",
     "text": [
      "6\n"
     ]
    }
   ],
   "source": [
    "# Write a programme to that calculates the sum of all even numbers up to 'n':\n",
    "n=int(input(\"enter a number\"))\n",
    "sum=0\n",
    "for i in range(2,n+1,2):\n",
    "    if i%2==0:\n",
    "        sum+=i\n",
    "print(sum)"
   ]
  },
  {
   "cell_type": "code",
   "execution_count": 52,
   "id": "cc545e9c-1d54-4ae8-ac06-d5d050c0d9ce",
   "metadata": {},
   "outputs": [
    {
     "name": "stdin",
     "output_type": "stream",
     "text": [
      " 3\n"
     ]
    },
    {
     "name": "stdout",
     "output_type": "stream",
     "text": [
      "6\n"
     ]
    }
   ],
   "source": [
    "# Write a programme to calculate the factorial of a given number N using a for loop:\n",
    "n=int(input())\n",
    "f=1\n",
    "if n<0:\n",
    "    print(\"negative number\")\n",
    "elif n==0 or n==1:\n",
    "    print(\"factorial is 1\")\n",
    "else:\n",
    "    for i in range(1,n+1):\n",
    "        f*=i\n",
    "print(f)"
   ]
  },
  {
   "cell_type": "code",
   "execution_count": 71,
   "id": "7bf3cb85-a61e-46f9-bb44-2a6ed004d7c0",
   "metadata": {},
   "outputs": [
    {
     "name": "stdin",
     "output_type": "stream",
     "text": [
      " 5\n"
     ]
    },
    {
     "name": "stdout",
     "output_type": "stream",
     "text": [
      "prime\n",
      "prime\n",
      "prime\n"
     ]
    }
   ],
   "source": [
    "# Write a python programme to print all the prime numbers up to 'n':\n",
    "def prime(n):\n",
    "    if n>1:\n",
    "        for i in range(2,n):\n",
    "            if n%i==0:\n",
    "                print(\"not prime\")\n",
    "                break\n",
    "            else:\n",
    "                print(\"prime\")\n",
    "    else:\n",
    "         print(\"not prime\")\n",
    "n=int(input())\n",
    "prime(n)"
   ]
  },
  {
   "cell_type": "code",
   "execution_count": 77,
   "id": "fe4f3aea-58f6-4ed1-bf83-23dbb491090c",
   "metadata": {},
   "outputs": [
    {
     "name": "stdin",
     "output_type": "stream",
     "text": [
      " i\n"
     ]
    },
    {
     "name": "stdout",
     "output_type": "stream",
     "text": [
      "1\n"
     ]
    }
   ],
   "source": [
    "# Write a python programme to count the vowels in a given string using a for loop:\n",
    "str=input()\n",
    "str.lower()\n",
    "c=0\n",
    "for i in str:\n",
    "    if i=='a' or i=='e' or i=='i' or i=='o' or i=='u':\n",
    "        c+=1\n",
    "print(c)"
   ]
  },
  {
   "cell_type": "code",
   "execution_count": 79,
   "id": "430c7c33-5329-4971-9f98-e50c487c9270",
   "metadata": {},
   "outputs": [
    {
     "name": "stdin",
     "output_type": "stream",
     "text": [
      "enter a string: keerthi\n"
     ]
    },
    {
     "name": "stdout",
     "output_type": "stream",
     "text": [
      " ihtreek\n"
     ]
    }
   ],
   "source": [
    "# Write a programme to reverse a given string without using any built in reverse function:\n",
    "def reversed(s):\n",
    "    reversed_str=\" \"\n",
    "    for i in range(len(s)-1,-1,-1):\n",
    "        reversed_str+=s[i]\n",
    "    return reversed_str\n",
    "s=input(\"enter a string:\")\n",
    "reversed_s=reversed(s)\n",
    "print(reversed_s)"
   ]
  },
  {
   "cell_type": "code",
   "execution_count": 81,
   "id": "793870ef-cb84-40e7-aa76-1bdd5eaa381f",
   "metadata": {},
   "outputs": [
    {
     "name": "stdin",
     "output_type": "stream",
     "text": [
      " keerthi\n"
     ]
    },
    {
     "name": "stdout",
     "output_type": "stream",
     "text": [
      "k\n",
      "ke\n",
      "kee\n",
      "keer\n",
      "keert\n",
      "keerth\n",
      "keerthi\n",
      "e\n",
      "ee\n",
      "eer\n",
      "eert\n",
      "eerth\n",
      "eerthi\n",
      "e\n",
      "er\n",
      "ert\n",
      "erth\n",
      "erthi\n",
      "r\n",
      "rt\n",
      "rth\n",
      "rthi\n",
      "t\n",
      "th\n",
      "thi\n",
      "h\n",
      "hi\n",
      "i\n"
     ]
    }
   ],
   "source": [
    "# Write a programme that finds and prints all substrings of a given string\n",
    "string=input()\n",
    "for i in range(len(string)):\n",
    "    for j in range(i+1,len(string)+1):\n",
    "        print(string[i:j])"
   ]
  },
  {
   "cell_type": "code",
   "execution_count": 101,
   "id": "a19c0fe2-3bd4-4df9-9b9b-010678319de2",
   "metadata": {},
   "outputs": [
    {
     "name": "stdin",
     "output_type": "stream",
     "text": [
      " keerthi\n"
     ]
    },
    {
     "name": "stdout",
     "output_type": "stream",
     "text": [
      "k:1\n",
      "e:2\n",
      "r:1\n",
      "t:1\n",
      "h:1\n",
      "i:1\n"
     ]
    }
   ],
   "source": [
    "# Write a programme to print all unique characters and their frequencies in a given string\n",
    "string=input()\n",
    "char_frequency={}\n",
    "for char in string:\n",
    "    if char in char_frequency:\n",
    "        char_frequency[char]+=1\n",
    "    else:\n",
    "        char_frequency[char]=1\n",
    "for char,freq in char_frequency.items():\n",
    "    print(f\"{char}:{freq}\")"
   ]
  },
  {
   "cell_type": "code",
   "execution_count": 108,
   "id": "4cc09c43-c53a-460b-aaa1-0b589474fc0e",
   "metadata": {},
   "outputs": [
    {
     "name": "stdout",
     "output_type": "stream",
     "text": [
      "0 1 1 2 3 5 8 13 21 34 "
     ]
    }
   ],
   "source": [
    "# Write a programme that prints the fibonacci sequence up to 'n' terms\n",
    "def fib(n):\n",
    "    a=0\n",
    "    b=1\n",
    "    for i in range(0,n):\n",
    "        print(a,end=\" \")\n",
    "        a,b=b,a+b\n",
    "fib(10)"
   ]
  },
  {
   "cell_type": "code",
   "execution_count": 132,
   "id": "20b11dbb-2235-4db5-a6ba-d56cd3a439f5",
   "metadata": {},
   "outputs": [
    {
     "name": "stdout",
     "output_type": "stream",
     "text": [
      "  1   2   3   4   5   6   7   8   9  10   2   4   6   8  10  12  14  16  18  20   3   6   9  12  15  18  21  24  27  30   4   8  12  16  20  24  28  32  36  40   5  10  15  20  25  30  35  40  45  50   6  12  18  24  30  36  42  48  54  60   7  14  21  28  35  42  49  56  63  70   8  16  24  32  40  48  56  64  72  80   9  18  27  36  45  54  63  72  81  90  10  20  30  40  50  60  70  80  90 100 "
     ]
    }
   ],
   "source": [
    "# Write a programme that brings a multiplication table for numbers from 1 to 10\n",
    "for i in range(1,10+1):\n",
    "    for j in range(1,10+1):\n",
    "        print(f\"{i*j:3}\",end=\" \")"
   ]
  },
  {
   "cell_type": "code",
   "execution_count": 136,
   "id": "0f313baa-b6e9-42fe-a7ed-bcb3b017cf50",
   "metadata": {},
   "outputs": [
    {
     "name": "stdin",
     "output_type": "stream",
     "text": [
      " 3\n"
     ]
    },
    {
     "name": "stdout",
     "output_type": "stream",
     "text": [
      "1 2 3 \n",
      "4 5 6 \n",
      "7 8 9 \n"
     ]
    }
   ],
   "source": [
    "# Write a programme to generate a matrix pattern based on the input N equals 3\n",
    "n=int(input())\n",
    "num=1\n",
    "for i in range(n):\n",
    "    for j in range(n):\n",
    "        print(num,end=\" \")\n",
    "        num+=1\n",
    "    print()"
   ]
  },
  {
   "cell_type": "code",
   "execution_count": null,
   "id": "48f1396d-7ec2-4d12-9fa0-2e9eb88965b4",
   "metadata": {},
   "outputs": [],
   "source": []
  }
 ],
 "metadata": {
  "kernelspec": {
   "display_name": "Python 3 (ipykernel)",
   "language": "python",
   "name": "python3"
  },
  "language_info": {
   "codemirror_mode": {
    "name": "ipython",
    "version": 3
   },
   "file_extension": ".py",
   "mimetype": "text/x-python",
   "name": "python",
   "nbconvert_exporter": "python",
   "pygments_lexer": "ipython3",
   "version": "3.12.4"
  }
 },
 "nbformat": 4,
 "nbformat_minor": 5
}
